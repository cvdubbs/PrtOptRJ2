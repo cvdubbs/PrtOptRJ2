{
 "cells": [
  {
   "cell_type": "markdown",
   "id": "c01d1549",
   "metadata": {},
   "source": [
    "Black-Litterman is a method of portfolio optimization that leverages bayesian statistics to generate better results\n"
   ]
  },
  {
   "cell_type": "code",
   "execution_count": 1,
   "id": "e398ab1d",
   "metadata": {},
   "outputs": [
    {
     "name": "stdout",
     "output_type": "stream",
     "text": [
      "[*********************100%***********************]  7 of 7 completed\n",
      "            AGG  EEM  EFA  IJR  JNK  SHY        SPY\n",
      "Date                                               \n",
      "1993-01-29  NaN  NaN  NaN  NaN  NaN  NaN  25.799770\n",
      "1993-02-01  NaN  NaN  NaN  NaN  NaN  NaN  25.983273\n",
      "1993-02-02  NaN  NaN  NaN  NaN  NaN  NaN  26.038315\n",
      "1993-02-03  NaN  NaN  NaN  NaN  NaN  NaN  26.313566\n",
      "1993-02-04  NaN  NaN  NaN  NaN  NaN  NaN  26.423655\n",
      "                   AGG        EEM        EFA         IJR         JNK  \\\n",
      "Date                                                                   \n",
      "2021-08-10  115.430000  52.180000  80.449997  111.620003  108.650002   \n",
      "2021-08-11  115.540001  52.320000  81.000000  112.400002  108.830002   \n",
      "2021-08-12  115.550003  51.860001  80.930000  111.830002  108.970001   \n",
      "2021-08-13  115.970001  51.730000  81.419998  111.010002  109.160004   \n",
      "2021-08-16  116.029999  51.259998  81.000000  110.459999  109.190002   \n",
      "\n",
      "                  SHY         SPY  \n",
      "Date                               \n",
      "2021-08-10  86.150002  442.679993  \n",
      "2021-08-11  86.190002  443.779999  \n",
      "2021-08-12  86.190002  445.109985  \n",
      "2021-08-13  86.199997  445.920013  \n",
      "2021-08-16  86.220001  446.970001  \n"
     ]
    }
   ],
   "source": [
    "import numpy as np\n",
    "import pandas as pd\n",
    "import matplotlib.pyplot as plt\n",
    "import yfinance as yf\n",
    "\n",
    "tickers = [\"EEM\", \"EFA\", \"IJR\", \"SPY\", \"AGG\", \"JNK\", \"SHY\"]\n",
    "\n",
    "ohlc = yf.download(tickers, period=\"max\")\n",
    "prices = ohlc[\"Adj Close\"]\n",
    "print(prices.head())\n",
    "print(prices.tail())"
   ]
  },
  {
   "cell_type": "code",
   "execution_count": 6,
   "id": "834c7cbb",
   "metadata": {},
   "outputs": [
    {
     "name": "stdout",
     "output_type": "stream",
     "text": [
      "[*********************100%***********************]  1 of 1 completed\n"
     ]
    },
    {
     "data": {
      "text/plain": [
       "Date\n",
       "1993-01-29    25.799770\n",
       "1993-02-01    25.983273\n",
       "1993-02-02    26.038315\n",
       "1993-02-03    26.313566\n",
       "1993-02-04    26.423655\n",
       "Name: Adj Close, dtype: float64"
      ]
     },
     "execution_count": 6,
     "metadata": {},
     "output_type": "execute_result"
    }
   ],
   "source": [
    "market_prices = yf.download(\"SPY\", period=\"max\")[\"Adj Close\"]\n",
    "market_prices.head()"
   ]
  },
  {
   "cell_type": "code",
   "execution_count": 4,
   "id": "e592425d",
   "metadata": {},
   "outputs": [
    {
     "data": {
      "text/plain": [
       "'1.4.2'"
      ]
     },
     "execution_count": 4,
     "metadata": {},
     "output_type": "execute_result"
    }
   ],
   "source": [
    "import pypfopt\n",
    "pypfopt.__version__"
   ]
  },
  {
   "cell_type": "code",
   "execution_count": 7,
   "id": "11ad8f36",
   "metadata": {},
   "outputs": [
    {
     "name": "stdout",
     "output_type": "stream",
     "text": [
      "2.76889809991177\n"
     ]
    }
   ],
   "source": [
    "from pypfopt import black_litterman, risk_models\n",
    "from pypfopt import BlackLittermanModel, plotting\n",
    "\n",
    "S = risk_models.CovarianceShrinkage(prices).ledoit_wolf()\n",
    "delta = black_litterman.market_implied_risk_aversion(market_prices)\n",
    "print(delta)"
   ]
  },
  {
   "cell_type": "markdown",
   "id": "ece6efb0",
   "metadata": {},
   "source": [
    "THe covariance shrinkage is a method of evening out extreme instances of covariance by reducing the impact of extreme outliers."
   ]
  },
  {
   "cell_type": "code",
   "execution_count": 8,
   "id": "333cdfd8",
   "metadata": {},
   "outputs": [
    {
     "data": {
      "image/png": "[encoded data removed]",
      "text/plain": [
       "<Figure size 432x288 with 2 Axes>"
      ]
     },
     "metadata": {
      "needs_background": "light"
     },
     "output_type": "display_data"
    }
   ],
   "source": [
    "plotting.plot_covariance(S, plot_correlation=True);"
   ]
  },
  {
   "cell_type": "code",
   "execution_count": 11,
   "id": "fb0518ab",
   "metadata": {},
   "outputs": [
    {
     "name": "stdout",
     "output_type": "stream",
     "text": [
      "{'EEM': 30331127808, 'EFA': 56765460480, 'IJR': 68639125504, 'SPY': 374031319040, 'AGG': 88802074624, 'JNK': 9782642688, 'SHY': 19510605824}\n"
     ]
    }
   ],
   "source": [
    "mcaps = {}\n",
    "for t in tickers:\n",
    "    stock = yf.Ticker(t)\n",
    "    mcaps[t] = stock.info[\"totalAssets\"]\n",
    "print(mcaps)"
   ]
  },
  {
   "cell_type": "markdown",
   "id": "92fc836f",
   "metadata": {},
   "source": [
    "Normally we would use Market Cap, here we're using 'totalAssets' because we're only evaluating ETF's and this will give use net assets which is a good substitute."
   ]
  },
  {
   "cell_type": "code",
   "execution_count": 12,
   "id": "9a398123",
   "metadata": {},
   "outputs": [
    {
     "name": "stdout",
     "output_type": "stream",
     "text": [
      "AGG    0.019655\n",
      "EEM    0.091505\n",
      "EFA    0.082241\n",
      "IJR    0.090461\n",
      "JNK    0.037744\n",
      "SHY    0.018695\n",
      "SPY    0.095155\n",
      "dtype: float64\n"
     ]
    }
   ],
   "source": [
    "market_prior = black_litterman.market_implied_prior_returns(mcaps, delta, S)\n",
    "print(market_prior)"
   ]
  },
  {
   "cell_type": "markdown",
   "id": "753b465a",
   "metadata": {},
   "source": [
    "We can now input our predictions and confidence in next year's asset movements"
   ]
  },
  {
   "cell_type": "code",
   "execution_count": 14,
   "id": "850fdcbe",
   "metadata": {},
   "outputs": [
    {
     "data": {
      "image/png": "[encoded data removed]",
      "text/plain": [
       "<Figure size 504x504 with 1 Axes>"
      ]
     },
     "metadata": {
      "needs_background": "light"
     },
     "output_type": "display_data"
    }
   ],
   "source": [
    "# You don't have to provide views on all the assets\n",
    "viewdict = {\n",
    "    \"EEM\": 0.10,\n",
    "    \"EFA\": 0.08,\n",
    "    \"IJR\": 0.09,\n",
    "    \"SPY\": 0.15,\n",
    "    \"AGG\": 0.01,\n",
    "    \"JNK\": -0.04,\n",
    "    \"SHY\": 0.01\n",
    "}\n",
    "\n",
    "bl = BlackLittermanModel(S, pi=market_prior, absolute_views=viewdict)\n",
    "\n",
    "confidences = [\n",
    "    0.8,\n",
    "    0.2,\n",
    "    0.4,\n",
    "    0.9,\n",
    "    0.1, \n",
    "    0.1,\n",
    "    0.3\n",
    "]\n",
    "\n",
    "\n",
    "bl = BlackLittermanModel(S, pi=market_prior, absolute_views=viewdict, omega=\"idzorek\", view_confidences=confidences)\n",
    "\n",
    "fig, ax = plt.subplots(figsize=(7,7))\n",
    "im = ax.imshow(bl.omega)\n",
    "\n",
    "# We want to show all ticks...\n",
    "ax.set_xticks(np.arange(len(bl.tickers)))\n",
    "ax.set_yticks(np.arange(len(bl.tickers)))\n",
    "\n",
    "ax.set_xticklabels(bl.tickers)\n",
    "ax.set_yticklabels(bl.tickers)\n",
    "plt.show()"
   ]
  },
  {
   "cell_type": "code",
   "execution_count": 19,
   "id": "132f91e6",
   "metadata": {},
   "outputs": [
    {
     "name": "stdout",
     "output_type": "stream",
     "text": [
      "AGG    0.015890\n",
      "EEM    0.106960\n",
      "EFA    0.101794\n",
      "IJR    0.116920\n",
      "JNK    0.037308\n",
      "SHY    0.015700\n",
      "SPY    0.141043\n",
      "dtype: float64\n"
     ]
    }
   ],
   "source": [
    "#bl = BlackLittermanModel(S, pi=\"market\", market_caps=mcaps, risk_aversion=delta,\n",
    "#                        absolute_views=viewdict, omega=omega)\n",
    "\n",
    "ret_bl = bl.bl_returns()\n",
    "print(ret_bl)"
   ]
  },
  {
   "cell_type": "code",
   "execution_count": 18,
   "id": "d57df4fa",
   "metadata": {},
   "outputs": [
    {
     "name": "stdout",
     "output_type": "stream",
     "text": [
      "        Prior  Posterior  Views\n",
      "AGG  0.019655   0.015890   0.01\n",
      "EEM  0.091505   0.106960   0.10\n",
      "EFA  0.082241   0.101794   0.08\n",
      "IJR  0.090461   0.116920   0.09\n",
      "JNK  0.037744   0.037308  -0.04\n",
      "SHY  0.018695   0.015700   0.01\n",
      "SPY  0.095155   0.141043   0.15\n"
     ]
    }
   ],
   "source": [
    "rets_df = pd.DataFrame([market_prior, ret_bl, pd.Series(viewdict)], \n",
    "             index=[\"Prior\", \"Posterior\", \"Views\"]).T\n",
    "print(rets_df)"
   ]
  },
  {
   "cell_type": "code",
   "execution_count": 20,
   "id": "d1285606",
   "metadata": {},
   "outputs": [
    {
     "data": {
      "image/png": "[encoded data removed]",
      "text/plain": [
       "<Figure size 864x576 with 1 Axes>"
      ]
     },
     "metadata": {
      "needs_background": "light"
     },
     "output_type": "display_data"
    }
   ],
   "source": [
    "rets_df.plot.bar(figsize=(12,8));"
   ]
  },
  {
   "cell_type": "code",
   "execution_count": 22,
   "id": "a6d124b7",
   "metadata": {},
   "outputs": [
    {
     "data": {
      "image/png": "[encoded data removed]",
      "text/plain": [
       "<Figure size 432x288 with 2 Axes>"
      ]
     },
     "metadata": {
      "needs_background": "light"
     },
     "output_type": "display_data"
    }
   ],
   "source": [
    "S_bl = bl.bl_cov()\n",
    "plotting.plot_covariance(S_bl);"
   ]
  },
  {
   "cell_type": "code",
   "execution_count": 23,
   "id": "d7908ee1",
   "metadata": {},
   "outputs": [
    {
     "name": "stdout",
     "output_type": "stream",
     "text": [
      "OrderedDict([('AGG', 0.0), ('EEM', 0.20872), ('EFA', 0.20051), ('IJR', 0.24014), ('JNK', 0.0405), ('SHY', 0.0), ('SPY', 0.31013)])\n"
     ]
    },
    {
     "name": "stderr",
     "output_type": "stream",
     "text": [
      "/opt/anaconda3/lib/python3.8/site-packages/pypfopt/efficient_frontier/efficient_frontier.py:252: UserWarning: max_sharpe transforms the optimization problem so additional objectives may not work as expected.\n",
      "  warnings.warn(\n"
     ]
    }
   ],
   "source": [
    "from pypfopt import EfficientFrontier, objective_functions\n",
    "\n",
    "ef = EfficientFrontier(ret_bl, S_bl)\n",
    "ef.add_objective(objective_functions.L2_reg)\n",
    "ef.max_sharpe()\n",
    "weights = ef.clean_weights()\n",
    "print(weights)"
   ]
  },
  {
   "cell_type": "code",
   "execution_count": 24,
   "id": "6c85861c",
   "metadata": {},
   "outputs": [
    {
     "data": {
      "image/png": "[encoded data removed]",
      "text/plain": [
       "<Figure size 720x720 with 1 Axes>"
      ]
     },
     "metadata": {},
     "output_type": "display_data"
    }
   ],
   "source": [
    "pd.Series(weights).plot.pie(figsize=(10,10));"
   ]
  },
  {
   "cell_type": "code",
   "execution_count": null,
   "id": "0174e950",
   "metadata": {},
   "outputs": [],
   "source": []
  }
 ],
 "metadata": {
  "kernelspec": {
   "display_name": "Python 3",
   "language": "python",
   "name": "python3"
  },
  "language_info": {
   "codemirror_mode": {
    "name": "ipython",
    "version": 3
   },
   "file_extension": ".py",
   "mimetype": "text/x-python",
   "name": "python",
   "nbconvert_exporter": "python",
   "pygments_lexer": "ipython3",
   "version": "3.8.8"
  }
 },
 "nbformat": 4,
 "nbformat_minor": 5
}
