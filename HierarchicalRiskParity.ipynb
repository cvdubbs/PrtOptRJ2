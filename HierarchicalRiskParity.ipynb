{
 "cells": [
  {
   "cell_type": "markdown",
   "id": "03b36770",
   "metadata": {},
   "source": [
    "Hierarchical Risk Parity is a machine learning form of portfolio optimization and is another approach"
   ]
  },
  {
   "cell_type": "code",
   "execution_count": 1,
   "id": "f8f61744",
   "metadata": {},
   "outputs": [
    {
     "data": {
      "text/plain": [
       "'1.4.2'"
      ]
     },
     "execution_count": 1,
     "metadata": {},
     "output_type": "execute_result"
    }
   ],
   "source": [
    "import numpy as np\n",
    "import pandas as pd\n",
    "import matplotlib.pyplot as plt\n",
    "import yfinance as yf\n",
    "import pypfopt\n",
    "\n",
    "pypfopt.__version__"
   ]
  },
  {
   "cell_type": "code",
   "execution_count": 2,
   "id": "e790f018",
   "metadata": {},
   "outputs": [
    {
     "name": "stdout",
     "output_type": "stream",
     "text": [
      "[*********************100%***********************]  7 of 7 completed\n"
     ]
    },
    {
     "data": {
      "text/html": [
       "<div>\n",
       "<style scoped>\n",
       "    .dataframe tbody tr th:only-of-type {\n",
       "        vertical-align: middle;\n",
       "    }\n",
       "\n",
       "    .dataframe tbody tr th {\n",
       "        vertical-align: top;\n",
       "    }\n",
       "\n",
       "    .dataframe thead th {\n",
       "        text-align: right;\n",
       "    }\n",
       "</style>\n",
       "<table border=\"1\" class=\"dataframe\">\n",
       "  <thead>\n",
       "    <tr style=\"text-align: right;\">\n",
       "      <th></th>\n",
       "      <th>AGG</th>\n",
       "      <th>EEM</th>\n",
       "      <th>EFA</th>\n",
       "      <th>IJR</th>\n",
       "      <th>JNK</th>\n",
       "      <th>SHY</th>\n",
       "      <th>SPY</th>\n",
       "    </tr>\n",
       "    <tr>\n",
       "      <th>Date</th>\n",
       "      <th></th>\n",
       "      <th></th>\n",
       "      <th></th>\n",
       "      <th></th>\n",
       "      <th></th>\n",
       "      <th></th>\n",
       "      <th></th>\n",
       "    </tr>\n",
       "  </thead>\n",
       "  <tbody>\n",
       "    <tr>\n",
       "      <th>2021-08-10</th>\n",
       "      <td>115.430000</td>\n",
       "      <td>52.180000</td>\n",
       "      <td>80.449997</td>\n",
       "      <td>111.620003</td>\n",
       "      <td>108.650002</td>\n",
       "      <td>86.150002</td>\n",
       "      <td>442.679993</td>\n",
       "    </tr>\n",
       "    <tr>\n",
       "      <th>2021-08-11</th>\n",
       "      <td>115.540001</td>\n",
       "      <td>52.320000</td>\n",
       "      <td>81.000000</td>\n",
       "      <td>112.400002</td>\n",
       "      <td>108.830002</td>\n",
       "      <td>86.190002</td>\n",
       "      <td>443.779999</td>\n",
       "    </tr>\n",
       "    <tr>\n",
       "      <th>2021-08-12</th>\n",
       "      <td>115.550003</td>\n",
       "      <td>51.860001</td>\n",
       "      <td>80.930000</td>\n",
       "      <td>111.830002</td>\n",
       "      <td>108.970001</td>\n",
       "      <td>86.190002</td>\n",
       "      <td>445.109985</td>\n",
       "    </tr>\n",
       "    <tr>\n",
       "      <th>2021-08-13</th>\n",
       "      <td>115.970001</td>\n",
       "      <td>51.730000</td>\n",
       "      <td>81.419998</td>\n",
       "      <td>111.010002</td>\n",
       "      <td>109.160004</td>\n",
       "      <td>86.199997</td>\n",
       "      <td>445.920013</td>\n",
       "    </tr>\n",
       "    <tr>\n",
       "      <th>2021-08-16</th>\n",
       "      <td>116.029999</td>\n",
       "      <td>51.259998</td>\n",
       "      <td>81.000000</td>\n",
       "      <td>110.459999</td>\n",
       "      <td>109.190002</td>\n",
       "      <td>86.220001</td>\n",
       "      <td>446.970001</td>\n",
       "    </tr>\n",
       "  </tbody>\n",
       "</table>\n",
       "</div>"
      ],
      "text/plain": [
       "                   AGG        EEM        EFA         IJR         JNK  \\\n",
       "Date                                                                   \n",
       "2021-08-10  115.430000  52.180000  80.449997  111.620003  108.650002   \n",
       "2021-08-11  115.540001  52.320000  81.000000  112.400002  108.830002   \n",
       "2021-08-12  115.550003  51.860001  80.930000  111.830002  108.970001   \n",
       "2021-08-13  115.970001  51.730000  81.419998  111.010002  109.160004   \n",
       "2021-08-16  116.029999  51.259998  81.000000  110.459999  109.190002   \n",
       "\n",
       "                  SHY         SPY  \n",
       "Date                               \n",
       "2021-08-10  86.150002  442.679993  \n",
       "2021-08-11  86.190002  443.779999  \n",
       "2021-08-12  86.190002  445.109985  \n",
       "2021-08-13  86.199997  445.920013  \n",
       "2021-08-16  86.220001  446.970001  "
      ]
     },
     "execution_count": 2,
     "metadata": {},
     "output_type": "execute_result"
    }
   ],
   "source": [
    "tickers = [\"EEM\", \"EFA\", \"IJR\", \"SPY\", \"AGG\", \"JNK\", \"SHY\"]\n",
    "\n",
    "ohlc = yf.download(tickers, period=\"max\")\n",
    "prices = ohlc[\"Adj Close\"]\n",
    "prices.tail()"
   ]
  },
  {
   "cell_type": "code",
   "execution_count": 3,
   "id": "1a6d285e",
   "metadata": {},
   "outputs": [
    {
     "data": {
      "text/html": [
       "<div>\n",
       "<style scoped>\n",
       "    .dataframe tbody tr th:only-of-type {\n",
       "        vertical-align: middle;\n",
       "    }\n",
       "\n",
       "    .dataframe tbody tr th {\n",
       "        vertical-align: top;\n",
       "    }\n",
       "\n",
       "    .dataframe thead th {\n",
       "        text-align: right;\n",
       "    }\n",
       "</style>\n",
       "<table border=\"1\" class=\"dataframe\">\n",
       "  <thead>\n",
       "    <tr style=\"text-align: right;\">\n",
       "      <th></th>\n",
       "      <th>AGG</th>\n",
       "      <th>EEM</th>\n",
       "      <th>EFA</th>\n",
       "      <th>IJR</th>\n",
       "      <th>JNK</th>\n",
       "      <th>SHY</th>\n",
       "      <th>SPY</th>\n",
       "    </tr>\n",
       "    <tr>\n",
       "      <th>Date</th>\n",
       "      <th></th>\n",
       "      <th></th>\n",
       "      <th></th>\n",
       "      <th></th>\n",
       "      <th></th>\n",
       "      <th></th>\n",
       "      <th></th>\n",
       "    </tr>\n",
       "  </thead>\n",
       "  <tbody>\n",
       "    <tr>\n",
       "      <th>2021-08-10</th>\n",
       "      <td>-0.001298</td>\n",
       "      <td>0.001343</td>\n",
       "      <td>0.002242</td>\n",
       "      <td>0.009679</td>\n",
       "      <td>-0.001746</td>\n",
       "      <td>-0.000348</td>\n",
       "      <td>0.001244</td>\n",
       "    </tr>\n",
       "    <tr>\n",
       "      <th>2021-08-11</th>\n",
       "      <td>0.000953</td>\n",
       "      <td>0.002683</td>\n",
       "      <td>0.006837</td>\n",
       "      <td>0.006988</td>\n",
       "      <td>0.001657</td>\n",
       "      <td>0.000464</td>\n",
       "      <td>0.002485</td>\n",
       "    </tr>\n",
       "    <tr>\n",
       "      <th>2021-08-12</th>\n",
       "      <td>0.000087</td>\n",
       "      <td>-0.008792</td>\n",
       "      <td>-0.000864</td>\n",
       "      <td>-0.005071</td>\n",
       "      <td>0.001286</td>\n",
       "      <td>0.000000</td>\n",
       "      <td>0.002997</td>\n",
       "    </tr>\n",
       "    <tr>\n",
       "      <th>2021-08-13</th>\n",
       "      <td>0.003635</td>\n",
       "      <td>-0.002507</td>\n",
       "      <td>0.006055</td>\n",
       "      <td>-0.007333</td>\n",
       "      <td>0.001744</td>\n",
       "      <td>0.000116</td>\n",
       "      <td>0.001820</td>\n",
       "    </tr>\n",
       "    <tr>\n",
       "      <th>2021-08-16</th>\n",
       "      <td>0.000517</td>\n",
       "      <td>-0.009086</td>\n",
       "      <td>-0.005158</td>\n",
       "      <td>-0.004955</td>\n",
       "      <td>0.000275</td>\n",
       "      <td>0.000232</td>\n",
       "      <td>0.002355</td>\n",
       "    </tr>\n",
       "  </tbody>\n",
       "</table>\n",
       "</div>"
      ],
      "text/plain": [
       "                 AGG       EEM       EFA       IJR       JNK       SHY  \\\n",
       "Date                                                                     \n",
       "2021-08-10 -0.001298  0.001343  0.002242  0.009679 -0.001746 -0.000348   \n",
       "2021-08-11  0.000953  0.002683  0.006837  0.006988  0.001657  0.000464   \n",
       "2021-08-12  0.000087 -0.008792 -0.000864 -0.005071  0.001286  0.000000   \n",
       "2021-08-13  0.003635 -0.002507  0.006055 -0.007333  0.001744  0.000116   \n",
       "2021-08-16  0.000517 -0.009086 -0.005158 -0.004955  0.000275  0.000232   \n",
       "\n",
       "                 SPY  \n",
       "Date                  \n",
       "2021-08-10  0.001244  \n",
       "2021-08-11  0.002485  \n",
       "2021-08-12  0.002997  \n",
       "2021-08-13  0.001820  \n",
       "2021-08-16  0.002355  "
      ]
     },
     "execution_count": 3,
     "metadata": {},
     "output_type": "execute_result"
    }
   ],
   "source": [
    "from pypfopt import expected_returns\n",
    "\n",
    "rets = expected_returns.returns_from_prices(prices)\n",
    "rets.tail()"
   ]
  },
  {
   "cell_type": "code",
   "execution_count": 4,
   "id": "932a209b",
   "metadata": {},
   "outputs": [
    {
     "data": {
      "text/plain": [
       "OrderedDict([('AGG', 0.07181),\n",
       "             ('EEM', 0.00082),\n",
       "             ('EFA', 0.00239),\n",
       "             ('IJR', 0.00124),\n",
       "             ('JNK', 0.00752),\n",
       "             ('SHY', 0.91303),\n",
       "             ('SPY', 0.00319)])"
      ]
     },
     "execution_count": 4,
     "metadata": {},
     "output_type": "execute_result"
    }
   ],
   "source": [
    "from pypfopt import HRPOpt\n",
    "\n",
    "hrp = HRPOpt(rets)\n",
    "hrp.optimize()\n",
    "weights = hrp.clean_weights()\n",
    "weights"
   ]
  },
  {
   "cell_type": "markdown",
   "id": "98d4e1fb",
   "metadata": {},
   "source": [
    "From a universe of assets, form a distance matrix based on the correlation of the assets.\n",
    "Using this distance matrix, cluster the assets into a tree via hierarchical clustering\n",
    "Within each branch of the tree, form the minimum variance portfolio.\n",
    "Iterate over each level, optimally combining the mini-portfolios at each node.\n",
    "\n",
    "(Taken from the cookbook here as a summary of the HRP steps above)"
   ]
  },
  {
   "cell_type": "code",
   "execution_count": 6,
   "id": "059f00e0",
   "metadata": {},
   "outputs": [
    {
     "data": {
      "image/png": "[encoded data removed]",
      "text/plain": [
       "<Figure size 720x720 with 1 Axes>"
      ]
     },
     "metadata": {},
     "output_type": "display_data"
    }
   ],
   "source": [
    "pd.Series(weights).plot.pie(figsize=(10, 10));"
   ]
  },
  {
   "cell_type": "code",
   "execution_count": 7,
   "id": "e3add26d",
   "metadata": {},
   "outputs": [
    {
     "name": "stdout",
     "output_type": "stream",
     "text": [
      "Expected annual return: 2.3%\n",
      "Annual volatility: 1.4%\n",
      "Sharpe Ratio: 0.19\n"
     ]
    }
   ],
   "source": [
    "hrp.portfolio_performance(verbose=True);"
   ]
  },
  {
   "cell_type": "code",
   "execution_count": 8,
   "id": "61517b9c",
   "metadata": {},
   "outputs": [
    {
     "data": {
      "image/png": "[encoded data removed]",
      "text/plain": [
       "<Figure size 432x288 with 1 Axes>"
      ]
     },
     "metadata": {
      "needs_background": "light"
     },
     "output_type": "display_data"
    }
   ],
   "source": [
    "from pypfopt import plotting\n",
    "\n",
    "plotting.plot_dendrogram(hrp);"
   ]
  },
  {
   "cell_type": "code",
   "execution_count": null,
   "id": "741bc9fc",
   "metadata": {},
   "outputs": [],
   "source": []
  }
 ],
 "metadata": {
  "kernelspec": {
   "display_name": "Python 3",
   "language": "python",
   "name": "python3"
  },
  "language_info": {
   "codemirror_mode": {
    "name": "ipython",
    "version": 3
   },
   "file_extension": ".py",
   "mimetype": "text/x-python",
   "name": "python",
   "nbconvert_exporter": "python",
   "pygments_lexer": "ipython3",
   "version": "3.8.8"
  }
 },
 "nbformat": 4,
 "nbformat_minor": 5
}
